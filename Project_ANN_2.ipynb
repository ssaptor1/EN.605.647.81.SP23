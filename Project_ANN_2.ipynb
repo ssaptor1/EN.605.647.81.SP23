{
 "cells": [
  {
   "cell_type": "code",
   "execution_count": 13,
   "id": "1b8b0cf2",
   "metadata": {},
   "outputs": [],
   "source": [
    "import numpy as np"
   ]
  },
  {
   "cell_type": "code",
   "execution_count": 14,
   "id": "39157087",
   "metadata": {},
   "outputs": [],
   "source": [
    "#I/O Pairs\n",
    "\n",
    "##### UPDATE: I added the 10 training pairs \n",
    "input_vector1 = np.array([.9, .87]).reshape(1,2)\n",
    "target1 = 1\n",
    "\n",
    "input_vector2 = np.array([1.31,.75]).reshape(1,2)\n",
    "target2 = 1\n",
    "\n",
    "input_vector3 = np.array([2.48,1.14]).reshape(1,2)\n",
    "target3 = 0\n",
    "\n",
    "input_vector4 = np.array([.41,1.87]).reshape(1,2)\n",
    "target4 = 0\n",
    "\n",
    "input_vector5 = np.array([2.45,.52]).reshape(1,2)\n",
    "target5 = 0\n",
    "\n",
    "input_vector6 = np.array([2.54,2.97]).reshape(1,2)\n",
    "target6 = 1\n",
    "\n",
    "input_vector7 = np.array([.07,.09]).reshape(1,2)\n",
    "target7 = 1\n",
    "\n",
    "input_vector8 = np.array([1.32,1.96]).reshape(1,2)\n",
    "target8 = 0\n",
    "\n",
    "input_vector9 = np.array([.94,.34]).reshape(1,2)\n",
    "target9 = 1\n",
    "\n",
    "input_vector10 = np.array([1.75,2.21]).reshape(1,2)\n",
    "target10 = 0\n",
    "\n",
    "##### UPDATE: I initialized all the weights as \"1\".\n",
    "weight_layer_1 = np.array([[1, 1], [1, 1]])\n",
    "weight_layer_2 = np.array([1, 1]).reshape(2,1)\n",
    "\n",
    "eta = 1\n",
    "\n",
    "bias = 0"
   ]
  },
  {
   "cell_type": "code",
   "execution_count": 15,
   "id": "83c87a20",
   "metadata": {},
   "outputs": [],
   "source": [
    "class Layer:\n",
    "    #initialize layer class\n",
    "    def __init__(self, layer_weight, eta = 0,  bias = None):\n",
    "        self.layer_weight = layer_weight\n",
    "        self.layer_bias = bias\n",
    "        self.eta = eta\n",
    "    \n",
    "    def sigmoid(self, x):\n",
    "        return 1/(1+np.exp(-x))\n",
    "    \n",
    "    def get_layer_output_vector(self, inputs):\n",
    "        self.activity = np.dot(inputs ,self.layer_weight)+self.layer_bias\n",
    "        self.output_vector = 1/(1+np.exp(-self.activity))\n",
    "        return self.output_vector\n",
    "\n",
    "##### UPDATE: I created this to apply our threshold.\n",
    "##### It is initialized so that an output of .5 or higher returns a \"1\".\n",
    "##### The code only applies this threshold logic to the activation function output from the final node.\n",
    "    def apply_threshold(self,output):\n",
    "        self.final_output = 0\n",
    "        if output >= .5:\n",
    "            self.final_output = 1\n",
    "        return self.final_output\n",
    "\n",
    "##### UPDATE: Had to update this to calculate error based on the \"final output\",\n",
    "##### aka the output after we apply our new threshold logic.\n",
    "    def get_error_vector(self, desired_output):\n",
    "        self.littleE_vector = desired_output - self.final_output\n",
    "        return self.littleE_vector\n",
    "\n",
    "##### UPDATE: Also updated to calculate delta based on the \"final output\".\n",
    "##### I did not update the calc_delta_j below since I figured it should remain as is\n",
    "##### (looking at the output_vector).\n",
    "    def calc_delta_k(self, target):\n",
    "        self.littleE = target - self.final_output\n",
    "        self.bigE = 0.5*self.littleE**2\n",
    "        self.delta_k = self.littleE*(1-self.final_output)*self.final_output\n",
    "        return self.delta_k\n",
    "\n",
    "    def calc_delta_j(self, delta_k, next_layer_weights):\n",
    "        self.delta_j = (1-self.output_vector)*self.output_vector*(delta_k*next_layer_weights).T\n",
    "        return self.delta_j\n",
    "    \n",
    "    def calc_delta_weights (self, delta, prev_layer_input):\n",
    "        self.delta_weights = self.layer_weight + self.eta*delta*prev_layer_input.T\n",
    "        self.delta_bias = self.layer_bias + self.eta*delta\n",
    "        return self.delta_weights, self.delta_bias\n",
    "    \n",
    "    def update_layer_weights(self):\n",
    "        self.layer_weight = self.delta_weights\n",
    "        self.layer_bias = self.delta_bias"
   ]
  },
  {
   "cell_type": "code",
   "execution_count": 16,
   "id": "c8aeb744",
   "metadata": {},
   "outputs": [],
   "source": [
    "Layer1=Layer(weight_layer_1, eta, bias)\n",
    "Layer2=Layer(weight_layer_2, eta, bias)"
   ]
  },
  {
   "cell_type": "code",
   "execution_count": 17,
   "id": "b986857a",
   "metadata": {},
   "outputs": [],
   "source": [
    "##### UPDATE: Does 30 iterations vice 15.  Loops through all 10 training I/Os.\n",
    "##### Also included a step to apply the threshold logic.\n",
    "for i in range(0,30):\n",
    "    \n",
    "    #I/O pair 1\n",
    "    Layer1.get_layer_output_vector(input_vector1)\n",
    "    Layer2.get_layer_output_vector(Layer1.output_vector)\n",
    "    #print(\"Input 1, Iteration: \", i, \" Layer output \", Layer2.output_vector)\n",
    "    Layer2.apply_threshold(Layer2.output_vector)\n",
    "    Layer2.calc_delta_k(target1)\n",
    "    Layer2.calc_delta_weights(Layer2.delta_k, Layer1.output_vector)\n",
    "    Layer1.calc_delta_j(Layer2.delta_k, Layer2.layer_weight)\n",
    "    Layer1.calc_delta_weights(Layer1.delta_j, input_vector1)\n",
    "    Layer1.update_layer_weights()\n",
    "    Layer2.update_layer_weights()\n",
    "    \n",
    "    #I/O pair 2\n",
    "    Layer1.get_layer_output_vector(input_vector2)\n",
    "    Layer2.get_layer_output_vector(Layer1.output_vector)\n",
    "    #print(\"Input 2, Iteration: \", i, \" Layer output \", Layer2.output_vector)\n",
    "    Layer2.apply_threshold(Layer2.output_vector)\n",
    "    Layer2.calc_delta_k(target2)\n",
    "    Layer2.calc_delta_weights(Layer2.delta_k, Layer1.output_vector)\n",
    "    Layer1.calc_delta_j(Layer2.delta_k, Layer2.layer_weight)\n",
    "    Layer1.calc_delta_weights(Layer1.delta_j, input_vector2)\n",
    "    Layer1.update_layer_weights()\n",
    "    Layer2.update_layer_weights()\n",
    "    \n",
    "    #I/O pair 3\n",
    "    Layer1.get_layer_output_vector(input_vector3)\n",
    "    Layer2.get_layer_output_vector(Layer1.output_vector)\n",
    "    #print(\"Input 3, Iteration: \", i, \" Layer output \", Layer2.output_vector)\n",
    "    Layer2.apply_threshold(Layer2.output_vector)\n",
    "    Layer2.calc_delta_k(target3)\n",
    "    Layer2.calc_delta_weights(Layer2.delta_k, Layer1.output_vector)\n",
    "    Layer1.calc_delta_j(Layer2.delta_k, Layer2.layer_weight)\n",
    "    Layer1.calc_delta_weights(Layer1.delta_j, input_vector3)\n",
    "    Layer1.update_layer_weights()\n",
    "    Layer2.update_layer_weights()\n",
    "    \n",
    "    #I/O pair 4\n",
    "    Layer1.get_layer_output_vector(input_vector4)\n",
    "    Layer2.get_layer_output_vector(Layer1.output_vector)\n",
    "    #print(\"Input 4, Iteration: \", i, \" Layer output \", Layer2.output_vector)\n",
    "    Layer2.apply_threshold(Layer2.output_vector)\n",
    "    Layer2.calc_delta_k(target4)\n",
    "    Layer2.calc_delta_weights(Layer2.delta_k, Layer1.output_vector)\n",
    "    Layer1.calc_delta_j(Layer2.delta_k, Layer2.layer_weight)\n",
    "    Layer1.calc_delta_weights(Layer1.delta_j, input_vector4)\n",
    "    Layer1.update_layer_weights()\n",
    "    Layer2.update_layer_weights()\n",
    "    \n",
    "    #I/O pair 5\n",
    "    Layer1.get_layer_output_vector(input_vector5)\n",
    "    Layer2.get_layer_output_vector(Layer1.output_vector)\n",
    "    #print(\"Input 5, Iteration: \", i, \" Layer output \", Layer2.output_vector)\n",
    "    Layer2.apply_threshold(Layer2.output_vector)\n",
    "    Layer2.calc_delta_k(target5)\n",
    "    Layer2.calc_delta_weights(Layer2.delta_k, Layer1.output_vector)\n",
    "    Layer1.calc_delta_j(Layer2.delta_k, Layer2.layer_weight)\n",
    "    Layer1.calc_delta_weights(Layer1.delta_j, input_vector5)\n",
    "    Layer1.update_layer_weights()\n",
    "    Layer2.update_layer_weights()\n",
    "    \n",
    "    #I/O pair 6\n",
    "    Layer1.get_layer_output_vector(input_vector6)\n",
    "    Layer2.get_layer_output_vector(Layer1.output_vector)\n",
    "    #print(\"Input 6, Iteration: \", i, \" Layer output \", Layer2.output_vector)\n",
    "    Layer2.apply_threshold(Layer2.output_vector)\n",
    "    Layer2.calc_delta_k(target6)\n",
    "    Layer2.calc_delta_weights(Layer2.delta_k, Layer1.output_vector)\n",
    "    Layer1.calc_delta_j(Layer2.delta_k, Layer2.layer_weight)\n",
    "    Layer1.calc_delta_weights(Layer1.delta_j, input_vector6)\n",
    "    Layer1.update_layer_weights()\n",
    "    Layer2.update_layer_weights()\n",
    "    \n",
    "    #I/O pair 7\n",
    "    Layer1.get_layer_output_vector(input_vector7)\n",
    "    Layer2.get_layer_output_vector(Layer1.output_vector)\n",
    "    #print(\"Input 7, Iteration: \", i, \" Layer output \", Layer2.output_vector)\n",
    "    Layer2.apply_threshold(Layer2.output_vector)\n",
    "    Layer2.calc_delta_k(target7)\n",
    "    Layer2.calc_delta_weights(Layer2.delta_k, Layer1.output_vector)\n",
    "    Layer1.calc_delta_j(Layer2.delta_k, Layer2.layer_weight)\n",
    "    Layer1.calc_delta_weights(Layer1.delta_j, input_vector7)\n",
    "    Layer1.update_layer_weights()\n",
    "    Layer2.update_layer_weights()\n",
    "    \n",
    "    #I/O pair 8\n",
    "    Layer1.get_layer_output_vector(input_vector8)\n",
    "    Layer2.get_layer_output_vector(Layer1.output_vector)\n",
    "    #print(\"Input 8, Iteration: \", i, \" Layer output \", Layer2.output_vector)\n",
    "    Layer2.apply_threshold(Layer2.output_vector)\n",
    "    Layer2.calc_delta_k(target8)\n",
    "    Layer2.calc_delta_weights(Layer2.delta_k, Layer1.output_vector)\n",
    "    Layer1.calc_delta_j(Layer2.delta_k, Layer2.layer_weight)\n",
    "    Layer1.calc_delta_weights(Layer1.delta_j, input_vector8)\n",
    "    Layer1.update_layer_weights()\n",
    "    Layer2.update_layer_weights()\n",
    "    \n",
    "    #I/O pair 9\n",
    "    Layer1.get_layer_output_vector(input_vector9)\n",
    "    Layer2.get_layer_output_vector(Layer1.output_vector)\n",
    "    #print(\"Input 9, Iteration: \", i, \" Layer output \", Layer2.output_vector)\n",
    "    Layer2.apply_threshold(Layer2.output_vector)\n",
    "    Layer2.calc_delta_k(target9)\n",
    "    Layer2.calc_delta_weights(Layer2.delta_k, Layer1.output_vector)\n",
    "    Layer1.calc_delta_j(Layer2.delta_k, Layer2.layer_weight)\n",
    "    Layer1.calc_delta_weights(Layer1.delta_j, input_vector9)\n",
    "    Layer1.update_layer_weights()\n",
    "    Layer2.update_layer_weights()\n",
    "    \n",
    "    #I/O pair 10\n",
    "    Layer1.get_layer_output_vector(input_vector10)\n",
    "    Layer2.get_layer_output_vector(Layer1.output_vector)\n",
    "    #print(\"Input 10, Iteration: \", i, \" Layer output \", Layer2.output_vector)\n",
    "    Layer2.apply_threshold(Layer2.output_vector)\n",
    "    Layer2.calc_delta_k(target10)\n",
    "    Layer2.calc_delta_weights(Layer2.delta_k, Layer1.output_vector)\n",
    "    Layer1.calc_delta_j(Layer2.delta_k, Layer2.layer_weight)\n",
    "    Layer1.calc_delta_weights(Layer1.delta_j, input_vector10)\n",
    "    Layer1.update_layer_weights()\n",
    "    Layer2.update_layer_weights()\n",
    "    \n",
    "    #print(\"---------\")"
   ]
  },
  {
   "cell_type": "code",
   "execution_count": 18,
   "id": "a30c705f",
   "metadata": {},
   "outputs": [
    {
     "data": {
      "text/plain": [
       "array([[0.84669555]])"
      ]
     },
     "execution_count": 18,
     "metadata": {},
     "output_type": "execute_result"
    }
   ],
   "source": [
    "Layer1.get_layer_output_vector(input_vector1)\n",
    "Layer2.get_layer_output_vector(Layer1.output_vector)"
   ]
  },
  {
   "cell_type": "code",
   "execution_count": 19,
   "id": "3daa71ab",
   "metadata": {},
   "outputs": [
    {
     "data": {
      "text/plain": [
       "0.0"
      ]
     },
     "execution_count": 19,
     "metadata": {},
     "output_type": "execute_result"
    }
   ],
   "source": [
    "Layer2.calc_delta_k(target1)\n",
    "Layer2.bigE"
   ]
  },
  {
   "cell_type": "code",
   "execution_count": 20,
   "id": "382f3795",
   "metadata": {},
   "outputs": [
    {
     "data": {
      "text/plain": [
       "array([[0.85494304]])"
      ]
     },
     "execution_count": 20,
     "metadata": {},
     "output_type": "execute_result"
    }
   ],
   "source": [
    "Layer1.get_layer_output_vector(input_vector2)\n",
    "Layer2.get_layer_output_vector(Layer1.output_vector)"
   ]
  },
  {
   "cell_type": "code",
   "execution_count": 21,
   "id": "43fbb4b0",
   "metadata": {},
   "outputs": [
    {
     "data": {
      "text/plain": [
       "0.0"
      ]
     },
     "execution_count": 21,
     "metadata": {},
     "output_type": "execute_result"
    }
   ],
   "source": [
    "Layer2.calc_delta_k(target2)\n",
    "Layer2.bigE"
   ]
  },
  {
   "cell_type": "code",
   "execution_count": 22,
   "id": "16ffeff2",
   "metadata": {},
   "outputs": [
    {
     "name": "stdout",
     "output_type": "stream",
     "text": [
      "[[0.85445767 0.85445767]]\n",
      "[[0.84669555]]\n",
      "1\n",
      "0\n",
      "[[1.]\n",
      " [1.]]\n",
      "[[0. 0.]]\n",
      "[[1. 1.]\n",
      " [1. 1.]]\n"
     ]
    }
   ],
   "source": [
    "##### Ignore this section... It's my working space to test stuff\n",
    "\n",
    "Layer1.get_layer_output_vector(input_vector1)\n",
    "print(Layer1.output_vector)\n",
    "Layer2.get_layer_output_vector(Layer1.output_vector)\n",
    "print(Layer2.output_vector)\n",
    "Layer2.apply_threshold(Layer2.output_vector)\n",
    "print(Layer2.final_output)\n",
    "Layer2.calc_delta_k(target1)\n",
    "print(Layer2.delta_k)\n",
    "Layer2.calc_delta_weights(Layer2.delta_k, Layer1.output_vector)\n",
    "print(Layer2.delta_weights)\n",
    "Layer1.calc_delta_j(Layer2.delta_k, Layer2.layer_weight)\n",
    "print(Layer1.delta_j)\n",
    "Layer1.calc_delta_weights(Layer1.delta_j, input_vector1)\n",
    "print(Layer1.delta_weights)"
   ]
  },
  {
   "cell_type": "code",
   "execution_count": null,
   "id": "1316b959",
   "metadata": {},
   "outputs": [],
   "source": []
  }
 ],
 "metadata": {
  "kernelspec": {
   "display_name": "Python 3 (ipykernel)",
   "language": "python",
   "name": "python3"
  },
  "language_info": {
   "codemirror_mode": {
    "name": "ipython",
    "version": 3
   },
   "file_extension": ".py",
   "mimetype": "text/x-python",
   "name": "python",
   "nbconvert_exporter": "python",
   "pygments_lexer": "ipython3",
   "version": "3.9.13"
  }
 },
 "nbformat": 4,
 "nbformat_minor": 5
}
