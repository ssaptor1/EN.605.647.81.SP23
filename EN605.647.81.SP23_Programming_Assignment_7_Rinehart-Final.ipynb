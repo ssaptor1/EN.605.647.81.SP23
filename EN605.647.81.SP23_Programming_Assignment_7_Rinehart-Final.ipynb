{
 "cells": [
  {
   "cell_type": "code",
   "execution_count": 1,
   "metadata": {},
   "outputs": [],
   "source": [
    "import numpy as np"
   ]
  },
  {
   "cell_type": "code",
   "execution_count": 21,
   "metadata": {},
   "outputs": [],
   "source": [
    "#Input1 parameters\n",
    "input_vector1=np.array([1, 1]).reshape(1,2)\n",
    "target1 = 0.9\n",
    "\n",
    "input_vector2 = np.array([-1,-1]).reshape(1,2)\n",
    "target2 = 0.05\n",
    "\n",
    "weight_layer_1 = np.array([[0.3, 0.3], [0.3, 0.3]])\n",
    "weight_layer_2 = np.array([0.8, 0.8]).reshape(2,1)\n",
    "\n",
    "eta = 1\n",
    "\n",
    "bias = 0"
   ]
  },
  {
   "cell_type": "code",
   "execution_count": 22,
   "metadata": {},
   "outputs": [],
   "source": [
    "class Layer:\n",
    "    #initialize layer class\n",
    "    def __init__(self, layer_weight, eta = 0,  bias = None):\n",
    "        self.layer_weight = layer_weight\n",
    "        self.layer_bias = bias\n",
    "        self.eta = eta\n",
    "    \n",
    "    def sigmoid(self, x):\n",
    "        return 1/(1+np.exp(-x))\n",
    "    \n",
    "    def get_layer_output_vector(self, inputs):\n",
    "        self.activity = np.dot(inputs ,self.layer_weight)+self.layer_bias\n",
    "        self.output_vector = 1/(1+np.exp(-self.activity))\n",
    "        return self.output_vector\n",
    "    \n",
    "    def get_error_vector(self, desired_output):\n",
    "        self.littleE_vector = desired_output - self.output_vector\n",
    "        return self.littleE_vector\n",
    "    \n",
    "    def calc_delta_k(self, target):\n",
    "        self.littleE = target - self.output_vector\n",
    "        self.bigE = 0.5*self.littleE**2\n",
    "        self.delta_k = self.littleE*(1-self.output_vector)*self.output_vector\n",
    "        return self.delta_k\n",
    "    \n",
    "    def calc_delta_j(self, delta_k, next_layer_weights):\n",
    "        self.delta_j = (1-self.output_vector)*self.output_vector*(delta_k*next_layer_weights).T\n",
    "        return self.delta_j\n",
    "    \n",
    "    def calc_delta_weights (self, delta, prev_layer_input):\n",
    "        self.delta_weights = self.layer_weight + self.eta*delta*prev_layer_input.T\n",
    "        self.delta_bias = self.layer_bias + self.eta*delta\n",
    "        return self.delta_weights, self.delta_bias\n",
    "    \n",
    "    def update_layer_weights(self):\n",
    "        self.layer_weight = self.delta_weights\n",
    "        self.layer_bias = self.delta_bias\n",
    "        "
   ]
  },
  {
   "cell_type": "code",
   "execution_count": 23,
   "metadata": {},
   "outputs": [],
   "source": [
    "Layer1=Layer(weight_layer_1, eta, bias)\n",
    "Layer2=Layer(weight_layer_2, eta, bias)"
   ]
  },
  {
   "cell_type": "markdown",
   "metadata": {},
   "source": [
    "#### Question 1\n",
    "After training using Method 1, what is the output of the network (the activation value of the output node) when the network is presented with an input of [1.0, 1.0]?  Answer to 4 significant decimal digits."
   ]
  },
  {
   "cell_type": "code",
   "execution_count": 24,
   "metadata": {},
   "outputs": [],
   "source": [
    "#Train network for method 1:\n",
    "for i in range(0,15):\n",
    "    #Input1\n",
    "    Layer1.get_layer_output_vector(input_vector1)\n",
    "    Layer2.get_layer_output_vector(Layer1.output_vector)\n",
    "    #print(\"Input 1, Iteration: \", i, \" Layer output \", Layer2.output_vector)\n",
    "    Layer2.calc_delta_k(target1)\n",
    "    Layer2.calc_delta_weights(Layer2.delta_k, Layer1.output_vector)\n",
    "    Layer1.calc_delta_j(Layer2.delta_k, Layer2.layer_weight)\n",
    "    Layer1.calc_delta_weights(Layer1.delta_j, input_vector1)\n",
    "    Layer1.update_layer_weights()\n",
    "    Layer2.update_layer_weights()\n",
    "    #Input2\n",
    "    Layer1.get_layer_output_vector(input_vector2)\n",
    "    Layer2.get_layer_output_vector(Layer1.output_vector)\n",
    "    #print(\"Input 2, Iteration: \", i, \" Layer output \", Layer2.output_vector)\n",
    "    Layer2.calc_delta_k(target2)\n",
    "    Layer2.calc_delta_weights(Layer2.delta_k, Layer1.output_vector)\n",
    "    Layer1.calc_delta_j(Layer2.delta_k, Layer2.layer_weight)\n",
    "    Layer1.calc_delta_weights(Layer1.delta_j, input_vector2)\n",
    "    Layer1.update_layer_weights()\n",
    "    Layer2.update_layer_weights()\n",
    "    #print(\"---------\")\n"
   ]
  },
  {
   "cell_type": "code",
   "execution_count": 25,
   "metadata": {},
   "outputs": [
    {
     "data": {
      "text/plain": [
       "array([[0.65832087]])"
      ]
     },
     "execution_count": 25,
     "metadata": {},
     "output_type": "execute_result"
    }
   ],
   "source": [
    "Layer1.get_layer_output_vector(input_vector1)\n",
    "Layer2.get_layer_output_vector(Layer1.output_vector)"
   ]
  },
  {
   "cell_type": "markdown",
   "metadata": {},
   "source": [
    "#### Question 2\n",
    "After training the network with Method 1, what is the value of Big E at the end of the training when the network is presented with an input of [1.0, 1.0]?  Answer to 4 significant decimal digits."
   ]
  },
  {
   "cell_type": "code",
   "execution_count": 26,
   "metadata": {},
   "outputs": [
    {
     "data": {
      "text/plain": [
       "array([[0.0292044]])"
      ]
     },
     "execution_count": 26,
     "metadata": {},
     "output_type": "execute_result"
    }
   ],
   "source": [
    "Layer2.calc_delta_k(target1)\n",
    "Layer2.bigE"
   ]
  },
  {
   "cell_type": "markdown",
   "metadata": {},
   "source": [
    "#### Question 3\n",
    "After training the network with Method 1, what is the output value when the network is presented with an input of [-1.0, -1.0]?  Answer to 4 significant decimal digits."
   ]
  },
  {
   "cell_type": "code",
   "execution_count": 8,
   "metadata": {},
   "outputs": [
    {
     "data": {
      "text/plain": [
       "array([[0.38176596]])"
      ]
     },
     "execution_count": 8,
     "metadata": {},
     "output_type": "execute_result"
    }
   ],
   "source": [
    "Layer1.get_layer_output_vector(input_vector2)\n",
    "Layer2.get_layer_output_vector(Layer1.output_vector)"
   ]
  },
  {
   "cell_type": "markdown",
   "metadata": {},
   "source": [
    "#### Question 4\n",
    "After training with Method 1, what is the value of Big E when the network is presented with the input [-1.0, -1.0]?  Answer to 4 significant decimal digits."
   ]
  },
  {
   "cell_type": "code",
   "execution_count": 9,
   "metadata": {},
   "outputs": [
    {
     "data": {
      "text/plain": [
       "array([[0.05503433]])"
      ]
     },
     "execution_count": 9,
     "metadata": {},
     "output_type": "execute_result"
    }
   ],
   "source": [
    "Layer2.calc_delta_k(target2)\n",
    "Layer2.bigE"
   ]
  },
  {
   "cell_type": "markdown",
   "metadata": {},
   "source": [
    "#### Question 5\n",
    "After training the network with Method 2, what is the network output when presented with input [1.0, 1.0]? Answer to 4 significant decimal digits."
   ]
  },
  {
   "cell_type": "code",
   "execution_count": 10,
   "metadata": {},
   "outputs": [],
   "source": [
    "#Reset the network\n",
    "Layer1=Layer(weight_layer_1, eta, bias)\n",
    "Layer2=Layer(weight_layer_2, eta, bias)"
   ]
  },
  {
   "cell_type": "code",
   "execution_count": 11,
   "metadata": {},
   "outputs": [],
   "source": [
    "#Train network for method 2:\n",
    "for i in range(0,15):\n",
    "    #Input1\n",
    "    Layer1.get_layer_output_vector(input_vector1)\n",
    "    Layer2.get_layer_output_vector(Layer1.output_vector)\n",
    "    #print(\"Input 1, Iteration: \", i, \" Layer output \", Layer2.output_vector)\n",
    "    Layer2.calc_delta_k(target1)\n",
    "    Layer2.calc_delta_weights(Layer2.delta_k, Layer1.output_vector)\n",
    "    Layer1.calc_delta_j(Layer2.delta_k, Layer2.layer_weight)\n",
    "    Layer1.calc_delta_weights(Layer1.delta_j, input_vector1)\n",
    "    Layer1.update_layer_weights()\n",
    "    Layer2.update_layer_weights()\n",
    "for i in range(0,15):\n",
    "    #Input2\n",
    "    Layer1.get_layer_output_vector(input_vector2)\n",
    "    Layer2.get_layer_output_vector(Layer1.output_vector)\n",
    "    #print(\"Input 2, Iteration: \", i, \" Layer output \", Layer2.output_vector)\n",
    "    Layer2.calc_delta_k(target2)\n",
    "    Layer2.calc_delta_weights(Layer2.delta_k, Layer1.output_vector)\n",
    "    Layer1.calc_delta_j(Layer2.delta_k, Layer2.layer_weight)\n",
    "    Layer1.calc_delta_weights(Layer1.delta_j, input_vector2)\n",
    "    Layer1.update_layer_weights()\n",
    "    Layer2.update_layer_weights()\n",
    "    #print(\"---------\")"
   ]
  },
  {
   "cell_type": "code",
   "execution_count": 12,
   "metadata": {},
   "outputs": [
    {
     "data": {
      "text/plain": [
       "array([[0.42165763]])"
      ]
     },
     "execution_count": 12,
     "metadata": {},
     "output_type": "execute_result"
    }
   ],
   "source": [
    "Layer1.get_layer_output_vector(input_vector1)\n",
    "Layer2.get_layer_output_vector(Layer1.output_vector)"
   ]
  },
  {
   "cell_type": "markdown",
   "metadata": {},
   "source": [
    "#### Question 6\n",
    "After training the network with Method 2, what is the value of Big E when the network is presented with the input [1.0, 1.0]?  Answer to 4 significant decimal digits."
   ]
  },
  {
   "cell_type": "code",
   "execution_count": 13,
   "metadata": {},
   "outputs": [
    {
     "data": {
      "text/plain": [
       "array([[0.11440571]])"
      ]
     },
     "execution_count": 13,
     "metadata": {},
     "output_type": "execute_result"
    }
   ],
   "source": [
    "Layer2.calc_delta_k(target1)\n",
    "Layer2.bigE"
   ]
  },
  {
   "cell_type": "markdown",
   "metadata": {},
   "source": [
    "#### Question 7\n",
    "After training using Method 2, what is the output of the network when presented with an input of [-1.0, -1.0]?  Answer to 4 significant decimal digits."
   ]
  },
  {
   "cell_type": "code",
   "execution_count": 14,
   "metadata": {},
   "outputs": [
    {
     "data": {
      "text/plain": [
       "array([[0.28384481]])"
      ]
     },
     "execution_count": 14,
     "metadata": {},
     "output_type": "execute_result"
    }
   ],
   "source": [
    "Layer1.get_layer_output_vector(input_vector2)\n",
    "Layer2.get_layer_output_vector(Layer1.output_vector)"
   ]
  },
  {
   "cell_type": "markdown",
   "metadata": {},
   "source": [
    "#### Question 8 \n",
    "After training with Method 2, what is the value of Big E when the network is presented with an input of [-1.0, -1.0]?  Answer to 4 significant decimal digits."
   ]
  },
  {
   "cell_type": "code",
   "execution_count": 15,
   "metadata": {},
   "outputs": [
    {
     "data": {
      "text/plain": [
       "array([[0.0273417]])"
      ]
     },
     "execution_count": 15,
     "metadata": {},
     "output_type": "execute_result"
    }
   ],
   "source": [
    "Layer2.calc_delta_k(target2)\n",
    "Layer2.bigE"
   ]
  },
  {
   "cell_type": "code",
   "execution_count": null,
   "metadata": {},
   "outputs": [],
   "source": []
  }
 ],
 "metadata": {
  "kernelspec": {
   "display_name": "Python 3",
   "language": "python",
   "name": "python3"
  },
  "language_info": {
   "codemirror_mode": {
    "name": "ipython",
    "version": 3
   },
   "file_extension": ".py",
   "mimetype": "text/x-python",
   "name": "python",
   "nbconvert_exporter": "python",
   "pygments_lexer": "ipython3",
   "version": "3.8.5"
  }
 },
 "nbformat": 4,
 "nbformat_minor": 4
}
